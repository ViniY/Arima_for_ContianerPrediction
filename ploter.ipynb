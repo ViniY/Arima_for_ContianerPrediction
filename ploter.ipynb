{
 "cells": [
  {
   "cell_type": "code",
   "execution_count": 77,
   "id": "e4a77b50",
   "metadata": {},
   "outputs": [],
   "source": [
    "import numpy as np\n",
    "import matplotlib.pyplot as plt\n",
    "import pandas as pd "
   ]
  },
  {
   "cell_type": "code",
   "execution_count": 78,
   "id": "db5d447d",
   "metadata": {},
   "outputs": [
    {
     "data": {
      "text/html": [
       "<div>\n",
       "<style scoped>\n",
       "    .dataframe tbody tr th:only-of-type {\n",
       "        vertical-align: middle;\n",
       "    }\n",
       "\n",
       "    .dataframe tbody tr th {\n",
       "        vertical-align: top;\n",
       "    }\n",
       "\n",
       "    .dataframe thead th {\n",
       "        text-align: right;\n",
       "    }\n",
       "</style>\n",
       "<table border=\"1\" class=\"dataframe\">\n",
       "  <thead>\n",
       "    <tr style=\"text-align: right;\">\n",
       "      <th></th>\n",
       "      <th>predicted</th>\n",
       "      <th>real</th>\n",
       "    </tr>\n",
       "  </thead>\n",
       "  <tbody>\n",
       "    <tr>\n",
       "      <th>0</th>\n",
       "      <td>7.460571</td>\n",
       "      <td>7033.938776</td>\n",
       "    </tr>\n",
       "    <tr>\n",
       "      <th>1</th>\n",
       "      <td>5071.404366</td>\n",
       "      <td>52.117647</td>\n",
       "    </tr>\n",
       "    <tr>\n",
       "      <th>2</th>\n",
       "      <td>5991.323827</td>\n",
       "      <td>969.368421</td>\n",
       "    </tr>\n",
       "    <tr>\n",
       "      <th>3</th>\n",
       "      <td>1944.764763</td>\n",
       "      <td>1192.818182</td>\n",
       "    </tr>\n",
       "    <tr>\n",
       "      <th>4</th>\n",
       "      <td>1346.952762</td>\n",
       "      <td>511.100000</td>\n",
       "    </tr>\n",
       "    <tr>\n",
       "      <th>...</th>\n",
       "      <td>...</td>\n",
       "      <td>...</td>\n",
       "    </tr>\n",
       "    <tr>\n",
       "      <th>346</th>\n",
       "      <td>-629.814262</td>\n",
       "      <td>127.333333</td>\n",
       "    </tr>\n",
       "    <tr>\n",
       "      <th>347</th>\n",
       "      <td>3196.200887</td>\n",
       "      <td>4595.000000</td>\n",
       "    </tr>\n",
       "    <tr>\n",
       "      <th>348</th>\n",
       "      <td>-305.513027</td>\n",
       "      <td>193.963636</td>\n",
       "    </tr>\n",
       "    <tr>\n",
       "      <th>349</th>\n",
       "      <td>-389.206247</td>\n",
       "      <td>692.905660</td>\n",
       "    </tr>\n",
       "    <tr>\n",
       "      <th>350</th>\n",
       "      <td>-943.776656</td>\n",
       "      <td>447.400000</td>\n",
       "    </tr>\n",
       "  </tbody>\n",
       "</table>\n",
       "<p>351 rows × 2 columns</p>\n",
       "</div>"
      ],
      "text/plain": [
       "       predicted         real\n",
       "0       7.460571  7033.938776\n",
       "1    5071.404366    52.117647\n",
       "2    5991.323827   969.368421\n",
       "3    1944.764763  1192.818182\n",
       "4    1346.952762   511.100000\n",
       "..           ...          ...\n",
       "346  -629.814262   127.333333\n",
       "347  3196.200887  4595.000000\n",
       "348  -305.513027   193.963636\n",
       "349  -389.206247   692.905660\n",
       "350  -943.776656   447.400000\n",
       "\n",
       "[351 rows x 2 columns]"
      ]
     },
     "execution_count": 78,
     "metadata": {},
     "output_type": "execute_result"
    }
   ],
   "source": [
    "df= pd.read_csv('/home/yuyong1/Desktop/Arima/Atom.lnk/CPUPrediction.csv', header =None)\n",
    "df.columns = ['predicted', 'real']\n",
    "df.astype('float64')\n",
    "df"
   ]
  },
  {
   "cell_type": "code",
   "execution_count": 79,
   "id": "d8ca8406",
   "metadata": {},
   "outputs": [],
   "source": [
    "df = df[df['real'] < 10000]\n",
    "df = df[df['predicted'] > -10000]\n",
    "# df = df[]"
   ]
  },
  {
   "cell_type": "code",
   "execution_count": 80,
   "id": "d5b8a25c",
   "metadata": {},
   "outputs": [],
   "source": [
    "predicted = df.iloc[:, 0].to_numpy()\n",
    "real = df.iloc[:,1].to_numpy()"
   ]
  },
  {
   "cell_type": "code",
   "execution_count": 84,
   "id": "7fd02be0",
   "metadata": {},
   "outputs": [
    {
     "name": "stderr",
     "output_type": "stream",
     "text": [
      "<ipython-input-84-dc90760e8d30>:9: UserWarning: Matplotlib is currently using module://ipykernel.pylab.backend_inline, which is a non-GUI backend, so cannot show the figure.\n",
      "  fig.show()\n"
     ]
    },
    {
     "data": {
      "image/png": "[encoded data removed]",
      "text/plain": [
       "<Figure size 432x288 with 1 Axes>"
      ]
     },
     "metadata": {
      "needs_background": "light"
     },
     "output_type": "display_data"
    }
   ],
   "source": [
    "fig = plt.figure()\n",
    "ax1 = fig.add_subplot(111)\n",
    "x = range(len(predicted))\n",
    "\n",
    "ax1.scatter(x,predicted,s=15, c='b', label =\"Predicted\")\n",
    "ax1.scatter(x, real, s=5, c='r', label=\"real\")\n",
    "plt.ylim(-10000,10000)\n",
    "plt.xlim(24,60)\n",
    "fig.show()"
   ]
  },
  {
   "cell_type": "code",
   "execution_count": 73,
   "id": "70288121",
   "metadata": {},
   "outputs": [],
   "source": [
    "fname = \"/home/yuyong1/Desktop/ArimaResult/qdp(404)_1day_1hour.png\"\n",
    "fig.savefig(fname, dpi='figure', format=None, metadata=None,\n",
    "        bbox_inches=None, pad_inches=0.1,\n",
    "        facecolor='auto', edgecolor='auto',\n",
    "        backend=None\n",
    "       )"
   ]
  },
  {
   "cell_type": "code",
   "execution_count": 85,
   "id": "515a1622",
   "metadata": {},
   "outputs": [
    {
     "data": {
      "text/plain": [
       "[<matplotlib.lines.Line2D at 0x7ff209914880>]"
      ]
     },
     "execution_count": 85,
     "metadata": {},
     "output_type": "execute_result"
    },
    {
     "data": {
      "image/png": "[encoded data removed]",
      "text/plain": [
       "<Figure size 432x288 with 1 Axes>"
      ]
     },
     "metadata": {
      "needs_background": "light"
     },
     "output_type": "display_data"
    }
   ],
   "source": [
    "plt.plot(np.abs(predicted-real))"
   ]
  },
  {
   "cell_type": "code",
   "execution_count": null,
   "id": "7c55e41d",
   "metadata": {},
   "outputs": [],
   "source": []
  }
 ],
 "metadata": {
  "kernelspec": {
   "display_name": "Python 3",
   "language": "python",
   "name": "python3"
  },
  "language_info": {
   "codemirror_mode": {
    "name": "ipython",
    "version": 3
   },
   "file_extension": ".py",
   "mimetype": "text/x-python",
   "name": "python",
   "nbconvert_exporter": "python",
   "pygments_lexer": "ipython3",
   "version": "3.8.12"
  }
 },
 "nbformat": 4,
 "nbformat_minor": 5
}
